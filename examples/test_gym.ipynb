{
 "cells": [
  {
   "cell_type": "code",
   "execution_count": 1,
   "metadata": {},
   "outputs": [],
   "source": [
    "import os\n",
    "if not os.path.isdir('database'):\n",
    "    os.chdir(\"..\")"
   ]
  },
  {
   "cell_type": "code",
   "execution_count": 5,
   "metadata": {},
   "outputs": [],
   "source": [
    "import pandas as pd\n",
    "\n",
    "from cryptogym.cryptogym import StockTradingEnv\n",
    "from utils import technical"
   ]
  },
  {
   "cell_type": "code",
   "execution_count": 6,
   "metadata": {},
   "outputs": [],
   "source": [
    "currency_pair = \"eurusd\"\n",
    "df = pd.read_pickle(f\"database/{currency_pair}.pkl\")"
   ]
  },
  {
   "cell_type": "code",
   "execution_count": 7,
   "metadata": {},
   "outputs": [],
   "source": [
    "df = df.drop(df[df.index.duplicated()].index)"
   ]
  },
  {
   "cell_type": "code",
   "execution_count": 8,
   "metadata": {},
   "outputs": [
    {
     "data": {
      "text/html": [
       "<div>\n",
       "<style scoped>\n",
       "    .dataframe tbody tr th:only-of-type {\n",
       "        vertical-align: middle;\n",
       "    }\n",
       "\n",
       "    .dataframe tbody tr th {\n",
       "        vertical-align: top;\n",
       "    }\n",
       "\n",
       "    .dataframe thead th {\n",
       "        text-align: right;\n",
       "    }\n",
       "</style>\n",
       "<table border=\"1\" class=\"dataframe\">\n",
       "  <thead>\n",
       "    <tr style=\"text-align: right;\">\n",
       "      <th></th>\n",
       "      <th>high</th>\n",
       "      <th>timestamp</th>\n",
       "      <th>volume</th>\n",
       "      <th>low</th>\n",
       "      <th>close</th>\n",
       "      <th>open</th>\n",
       "    </tr>\n",
       "    <tr>\n",
       "      <th>timestamp</th>\n",
       "      <th></th>\n",
       "      <th></th>\n",
       "      <th></th>\n",
       "      <th></th>\n",
       "      <th></th>\n",
       "      <th></th>\n",
       "    </tr>\n",
       "  </thead>\n",
       "  <tbody>\n",
       "    <tr>\n",
       "      <th>2019-06-01 00:03:00</th>\n",
       "      <td>1.1112</td>\n",
       "      <td>1559347380</td>\n",
       "      <td>0.0</td>\n",
       "      <td>1.1112</td>\n",
       "      <td>1.1112</td>\n",
       "      <td>1.1112</td>\n",
       "    </tr>\n",
       "    <tr>\n",
       "      <th>2019-06-01 00:04:00</th>\n",
       "      <td>1.1112</td>\n",
       "      <td>1559347440</td>\n",
       "      <td>0.0</td>\n",
       "      <td>1.1112</td>\n",
       "      <td>1.1112</td>\n",
       "      <td>1.1112</td>\n",
       "    </tr>\n",
       "    <tr>\n",
       "      <th>2019-06-01 00:05:00</th>\n",
       "      <td>1.1112</td>\n",
       "      <td>1559347500</td>\n",
       "      <td>0.0</td>\n",
       "      <td>1.1112</td>\n",
       "      <td>1.1112</td>\n",
       "      <td>1.1112</td>\n",
       "    </tr>\n",
       "    <tr>\n",
       "      <th>2019-06-01 00:06:00</th>\n",
       "      <td>1.1112</td>\n",
       "      <td>1559347560</td>\n",
       "      <td>0.0</td>\n",
       "      <td>1.1112</td>\n",
       "      <td>1.1112</td>\n",
       "      <td>1.1112</td>\n",
       "    </tr>\n",
       "    <tr>\n",
       "      <th>2019-06-01 00:07:00</th>\n",
       "      <td>1.1112</td>\n",
       "      <td>1559347620</td>\n",
       "      <td>0.0</td>\n",
       "      <td>1.1112</td>\n",
       "      <td>1.1112</td>\n",
       "      <td>1.1112</td>\n",
       "    </tr>\n",
       "  </tbody>\n",
       "</table>\n",
       "</div>"
      ],
      "text/plain": [
       "                       high   timestamp  volume     low   close    open\n",
       "timestamp                                                              \n",
       "2019-06-01 00:03:00  1.1112  1559347380     0.0  1.1112  1.1112  1.1112\n",
       "2019-06-01 00:04:00  1.1112  1559347440     0.0  1.1112  1.1112  1.1112\n",
       "2019-06-01 00:05:00  1.1112  1559347500     0.0  1.1112  1.1112  1.1112\n",
       "2019-06-01 00:06:00  1.1112  1559347560     0.0  1.1112  1.1112  1.1112\n",
       "2019-06-01 00:07:00  1.1112  1559347620     0.0  1.1112  1.1112  1.1112"
      ]
     },
     "execution_count": 8,
     "metadata": {},
     "output_type": "execute_result"
    }
   ],
   "source": [
    "df.head()"
   ]
  },
  {
   "cell_type": "code",
   "execution_count": 9,
   "metadata": {},
   "outputs": [],
   "source": [
    "df = df.reset_index(drop=True)"
   ]
  },
  {
   "cell_type": "code",
   "execution_count": 10,
   "metadata": {},
   "outputs": [
    {
     "name": "stderr",
     "output_type": "stream",
     "text": [
      "/home/giulio/prog/.virtualenv/RL/lib/python3.6/site-packages/gym/logger.py:30: UserWarning: \u001b[33mWARN: Box bound precision lowered by casting to float16\u001b[0m\n",
      "  warnings.warn(colorize('%s: %s'%('WARN', msg % args), 'yellow'))\n"
     ]
    }
   ],
   "source": [
    "env = StockTradingEnv(df)"
   ]
  },
  {
   "cell_type": "code",
   "execution_count": 11,
   "metadata": {},
   "outputs": [
    {
     "data": {
      "text/plain": [
       "array([[ 1.09437000e+00,  1.09437000e+00,  1.09876000e+00,\n",
       "         1.09876000e+00,  1.09876000e+00,  1.09876000e+00],\n",
       "       [ 1.09437000e+00,  1.09437000e+00,  1.09739000e+00,\n",
       "         1.09876000e+00,  1.09876000e+00,  1.09876000e+00],\n",
       "       [ 1.09437000e+00,  1.09437000e+00,  1.09876000e+00,\n",
       "         1.09876000e+00,  1.09876000e+00,  1.09876000e+00],\n",
       "       [-2.97218000e-03, -2.97588200e-03, -2.97563300e-03,\n",
       "        -2.97538400e-03, -2.97513500e-03, -2.97488600e-03],\n",
       "       [            nan,             nan,  7.78634361e+01,\n",
       "         9.26211454e+01,  9.26211454e+01,  9.26211454e+01],\n",
       "       [ 4.37585370e-02,  4.37585370e-02,  4.37585370e-02,\n",
       "         4.37585370e-02,  4.37585370e-02,  4.37585370e-02],\n",
       "       [ 1.00000000e-01,  1.00000000e-01,  0.00000000e+00,\n",
       "         0.00000000e+00,  0.00000000e+00,  0.00000000e+00]])"
      ]
     },
     "execution_count": 11,
     "metadata": {},
     "output_type": "execute_result"
    }
   ],
   "source": [
    "env.reset()"
   ]
  },
  {
   "cell_type": "code",
   "execution_count": 12,
   "metadata": {},
   "outputs": [
    {
     "data": {
      "text/plain": [
       "(array([[ 1.09437000e+00,  1.09876000e+00,  1.09876000e+00,\n",
       "          1.09876000e+00,  1.09876000e+00,  1.09876000e+00],\n",
       "        [ 1.09437000e+00,  1.09739000e+00,  1.09876000e+00,\n",
       "          1.09876000e+00,  1.09876000e+00,  1.09876000e+00],\n",
       "        [ 1.09437000e+00,  1.09876000e+00,  1.09876000e+00,\n",
       "          1.09876000e+00,  1.09876000e+00,  1.09876000e+00],\n",
       "        [-2.97588200e-03, -2.97563300e-03, -2.97538400e-03,\n",
       "         -2.97513500e-03, -2.97488600e-03, -2.97463700e-03],\n",
       "        [            nan,  7.78634361e+01,  9.26211454e+01,\n",
       "          9.26211454e+01,  9.26211454e+01,  9.26211454e+01],\n",
       "        [ 4.37585370e-02,  4.37585370e-02,  4.37585370e-02,\n",
       "          4.37585370e-02,  4.37585370e-02,  4.37585370e-02],\n",
       "        [ 1.00000000e-01,  1.00000000e-01,  0.00000000e+00,\n",
       "          0.00000000e+00,  0.00000000e+00,  0.00000000e+00]]),\n",
       " 1575.51,\n",
       " False,\n",
       " {})"
      ]
     },
     "execution_count": 12,
     "metadata": {},
     "output_type": "execute_result"
    }
   ],
   "source": [
    "env.step([1, 0.15])"
   ]
  },
  {
   "cell_type": "code",
   "execution_count": 13,
   "metadata": {},
   "outputs": [
    {
     "name": "stdout",
     "output_type": "stream",
     "text": [
      "Step: 157551\n",
      "Balance: 100.0\n",
      "Shares held: 0.0 (Total sold: 0.0)\n",
      "Avg cost for held shares: 0 (Total sales value: 0.0)\n",
      "Net worth: 100 (Max net worth: 100)\n",
      "Profit: 0\n"
     ]
    }
   ],
   "source": [
    "env.render()"
   ]
  }
 ],
 "metadata": {
  "kernelspec": {
   "display_name": "RL",
   "language": "python",
   "name": "rl"
  },
  "language_info": {
   "codemirror_mode": {
    "name": "ipython",
    "version": 3
   },
   "file_extension": ".py",
   "mimetype": "text/x-python",
   "name": "python",
   "nbconvert_exporter": "python",
   "pygments_lexer": "ipython3",
   "version": "3.6.9"
  }
 },
 "nbformat": 4,
 "nbformat_minor": 2
}
